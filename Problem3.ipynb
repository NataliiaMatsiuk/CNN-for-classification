{
 "cells": [
  {
   "cell_type": "markdown",
   "id": "1c7872cb",
   "metadata": {},
   "source": [
    "# CNN for classification"
   ]
  },
  {
   "attachments": {
    "image-3.png": {
     "image/png": "[encoded data removed]"
    }
   },
   "cell_type": "markdown",
   "id": "bcb93714",
   "metadata": {},
   "source": [
    "Problem\n",
    "\n",
    "The calorimeter has a multiple showers where the energy is distributed through multiple blocks. The shower centers can be anywhere in the calorimeter ( –1000 < x,y < +1000 ) and will never be outside of that. Energy from the shower that falls outside of the calorimeter however, is lost. \n",
    "\n",
    "In the example, there are 6 showers. \n",
    "\n",
    "![image-3.png](attachment:image-3.png)\n",
    "\n",
    "The showers here are all “clean” with no noise or backgrounds. \n",
    "\n",
    "The data comes as PNG files (8-bit greyscale) for each of the events that are stored in the relevant directory such as \"train_images\". For this set, there is an CSV file named \"train_images.csv\". The first column is just the PNG file name and the last column is the number of showers. \n",
    "\n",
    "The solution to this problem will consist of a single CSV file with a single column containing the number of showers in the event for the events in the judge.csv or judge_images.csv file. The order of the events should correspond to the same order as in the input file."
   ]
  },
  {
   "cell_type": "markdown",
   "id": "7b4fa828",
   "metadata": {},
   "source": [
    "Our input is represented as a set of images, that's why CNN was chosen as a model. And we need to get the predictions for the number of showers (from 0 to 10), so we face with the classification task."
   ]
  },
  {
   "cell_type": "markdown",
   "id": "66e86587",
   "metadata": {},
   "source": [
    "Firstly let's import all necessary python libraries"
   ]
  },
  {
   "cell_type": "code",
   "execution_count": 72,
   "id": "336c80d4",
   "metadata": {
    "scrolled": true
   },
   "outputs": [],
   "source": [
    "import os\n",
    "from os import listdir\n",
    "from os.path import isfile, join\n",
    "import glob\n",
    "import time\n",
    "import pandas as pd\n",
    "import numpy as np\n",
    "import tensorflow as tf\n",
    "from tensorflow.keras.callbacks import EarlyStopping\n",
    "from keras.models import Sequential\n",
    "from keras.layers import Dense, Activation, Flatten, Dropout, BatchNormalization\n",
    "from keras.layers import Conv2D, MaxPooling2D\n",
    "from keras import regularizers, optimizers\n",
    "import keras_preprocessing\n",
    "from keras_preprocessing import image\n",
    "from keras_preprocessing.image import ImageDataGenerator\n",
    "from keras.utils import to_categorical\n",
    "import matplotlib.pyplot as plt"
   ]
  },
  {
   "cell_type": "markdown",
   "id": "6d64367e",
   "metadata": {},
   "source": [
    "Get input from csv-file and create Pandas DataFrames with train, test and judge data"
   ]
  },
  {
   "cell_type": "code",
   "execution_count": 92,
   "id": "2650581d",
   "metadata": {
    "scrolled": true
   },
   "outputs": [
    {
     "name": "stdout",
     "output_type": "stream",
     "text": [
      "Training size: 10000\n",
      "Test size: 2000\n",
      "Judge size: 2000\n"
     ]
    }
   ],
   "source": [
    "source = \"https://userweb.jlab.org/~tbritton/Hackathon2021_DataSets/Problem3/\"\n",
    "\n",
    "# train dataset\n",
    "df_train = pd.read_csv(\n",
    "    os.path.join(source,\"train_images.csv\"), \n",
    "    na_values=['NA', '?'], header=None)\n",
    "\n",
    "mapping = {df_train.columns[0]: 'filename', df_train.columns[1]: 'showers'}\n",
    "df_train = df_train.rename(columns=mapping)\n",
    "\n",
    "df_train['filename'] = df_train['filename'].str.replace(r'^t\\w*([^.])', '',regex=True)\n",
    "df_train['filename'] = df_train['filename'].str.replace(r'.png', '',regex=True)+'.png'\n",
    "df_train['showers'] = df_train['showers'] .astype(str) #str type is requirement for categorical class mode\n",
    "\n",
    "# test dataset\n",
    "df_test = pd.read_csv(\n",
    "    os.path.join(source,\"test_images.csv\"), \n",
    "    na_values=['NA', '?'], header=None)\n",
    "\n",
    "mapping = {df_test.columns[0]: 'filename', df_test.columns[1]: 'showers'}\n",
    "df_test = df_test.rename(columns=mapping)\n",
    "\n",
    "df_test['filename'] = df_test['filename'].str.replace(r'^t\\w*([^.])', '',regex=True)\n",
    "df_test['filename'] = df_test['filename'].str.replace(r'.png', '',regex=True)+'.png'\n",
    "df_test['showers'] = df_test['showers'] .astype(str) #str type is requirement for categorical class mode\n",
    "\n",
    "# judge dataset\n",
    "df_judge = pd.read_csv(\n",
    "    os.path.join(source,\"judge_images.csv\"), \n",
    "    na_values=['NA', '?'], header=None)\n",
    "\n",
    "mapping = {df_judge.columns[0]: 'filename'}\n",
    "df_judge = df_judge.rename(columns=mapping)\n",
    "\n",
    "df_judge['filename'] = df_judge['filename'].str.replace(r'^j\\w*([^.])', '',regex=True)\n",
    "df_judge['filename'] = df_judge['filename'].str.replace(r'.png', '',regex=True)+'.png'\n",
    "\n",
    "df_judge\n",
    "print(f\"Training size: {len(df_train)}\")\n",
    "print(f\"Test size: {len(df_test)}\")\n",
    "print(f\"Judge size: {len(df_judge)}\")\n"
   ]
  },
  {
   "cell_type": "markdown",
   "id": "802b7ced",
   "metadata": {},
   "source": [
    "Let's build a data generator. We will not divide the train dataset to the train and validation datasets, we'll just use test data for validation purpose"
   ]
  },
  {
   "cell_type": "code",
   "execution_count": 81,
   "id": "340d381e",
   "metadata": {},
   "outputs": [],
   "source": [
    "datagen=ImageDataGenerator()"
   ]
  },
  {
   "cell_type": "markdown",
   "id": "f5df7bab",
   "metadata": {},
   "source": [
    "The function flow_from_dataframe loads the labels from a Pandas dataframe connected to our train_images.csv file. \n",
    "\n",
    "We have to specify paths to the directories which contains all the images, because our x_col doesn't contain absolute_paths pointing to each image files instead of just filenames.\n",
    "\n",
    "Parameter x_col points to the name of the column which contains the filenames of the images, y_col — points to the name of the column which contains the label.\n",
    "\n",
    "We have to set class_mode equals to “categorical”, because we have the data in the column as categorical values (str datatype).\n",
    "\n",
    "Batch_size will be 32 for the training and validation datasets and 1 for the test dataset.\n",
    "\n",
    "Shuffle is set to True for train and validation generators and False for test generator, because we need to yield the images in “order”, to predict the outputs and match them with their unique filenames."
   ]
  },
  {
   "cell_type": "code",
   "execution_count": 104,
   "id": "1eca1310",
   "metadata": {},
   "outputs": [
    {
     "name": "stdout",
     "output_type": "stream",
     "text": [
      "Found 10000 validated image filenames belonging to 10 classes.\n",
      "Found 2000 validated image filenames belonging to 10 classes.\n",
      "Found 2000 validated image filenames.\n"
     ]
    }
   ],
   "source": [
    "path_train = 'C:/Users/matsiuk/Documents/Python Scripts/DATA/Problem3/train_images'\n",
    "path_test = 'C:/Users/matsiuk/Documents/Python Scripts/DATA/Problem3/test_images'\n",
    "path_judge = 'C:/Users/matsiuk/Documents/Python Scripts/DATA/Problem3/judge_images'\n",
    "\n",
    "train_generator=datagen.flow_from_dataframe(\n",
    "                dataframe=df_train,\n",
    "                directory=path_train,\n",
    "                x_col=\"filename\",\n",
    "                y_col=\"showers\",\n",
    "                batch_size=32,\n",
    "                seed=42,\n",
    "                #shuffle=True,\n",
    "                class_mode=\"categorical\",\n",
    "                target_size=(30,30),\n",
    "                color_mode='grayscale')\n",
    "\n",
    "valid_generator=datagen.flow_from_dataframe(\n",
    "                dataframe=df_test,\n",
    "                directory=path_test,\n",
    "                x_col=\"filename\",\n",
    "                y_col=\"showers\",\n",
    "                batch_size=32,\n",
    "                seed=42,\n",
    "                #shuffle=True,\n",
    "                class_mode=\"categorical\",\n",
    "                target_size=(30,30),\n",
    "                color_mode='grayscale')\n",
    "\n",
    "test_datagen=ImageDataGenerator()\n",
    "\n",
    "test_generator=test_datagen.flow_from_dataframe(\n",
    "                dataframe=df_judge,\n",
    "                directory=path_judge,\n",
    "                x_col=\"filename\",\n",
    "                y_col=\"showers\",\n",
    "                batch_size=1,\n",
    "                seed=42,\n",
    "                shuffle=False,\n",
    "                class_mode=None,\n",
    "                target_size=(30,30),\n",
    "                color_mode='grayscale')"
   ]
  },
  {
   "cell_type": "markdown",
   "id": "e68a0702",
   "metadata": {},
   "source": [
    "Now let's build the model."
   ]
  },
  {
   "cell_type": "code",
   "execution_count": 105,
   "id": "5db34900",
   "metadata": {},
   "outputs": [],
   "source": [
    "class_count = len(train_generator.class_indices)\n",
    "\n",
    "model = Sequential()\n",
    "model.add(Conv2D(32, (3, 3), padding='same',\n",
    "                 input_shape=(30,30,1)))\n",
    "model.add(Activation('relu'))\n",
    "model.add(Conv2D(32, (3, 3)))\n",
    "model.add(Activation('relu'))\n",
    "model.add(MaxPooling2D(pool_size=(2, 2)))\n",
    "model.add(Dropout(0.25))\n",
    "model.add(Conv2D(64, (3, 3), padding='same'))\n",
    "model.add(Activation('relu'))\n",
    "model.add(Conv2D(64, (3, 3)))\n",
    "model.add(Activation('relu'))\n",
    "model.add(MaxPooling2D(pool_size=(2, 2)))\n",
    "model.add(Dropout(0.25))\n",
    "model.add(Flatten())\n",
    "model.add(Dense(512))\n",
    "model.add(Activation('relu'))\n",
    "model.add(Dropout(0.5))\n",
    "model.add(Dense(class_count, activation='softmax'))\n",
    "model.compile(optimizers.rmsprop(lr=0.0001, decay=1e-6), loss=\"categorical_crossentropy\", metrics=[\"accuracy\"])\n"
   ]
  },
  {
   "cell_type": "markdown",
   "id": "a9ffed99",
   "metadata": {},
   "source": [
    "Let's fit the model."
   ]
  },
  {
   "cell_type": "code",
   "execution_count": 106,
   "id": "b459c06b",
   "metadata": {},
   "outputs": [
    {
     "name": "stdout",
     "output_type": "stream",
     "text": [
      "Epoch 1/10\n",
      "312/312 [==============================] - 15s 47ms/step - loss: 1.9042 - accuracy: 0.3769 - val_loss: 1.7550 - val_accuracy: 0.4123\n",
      "Epoch 2/10\n",
      "312/312 [==============================] - 14s 46ms/step - loss: 1.3377 - accuracy: 0.5336 - val_loss: 1.2184 - val_accuracy: 0.4009\n",
      "Epoch 3/10\n",
      "312/312 [==============================] - 14s 46ms/step - loss: 0.9971 - accuracy: 0.6012 - val_loss: 1.5356 - val_accuracy: 0.4284\n",
      "Epoch 4/10\n",
      "312/312 [==============================] - 14s 46ms/step - loss: 0.8847 - accuracy: 0.6373 - val_loss: 1.0457 - val_accuracy: 0.4578\n",
      "Epoch 5/10\n",
      "312/312 [==============================] - 15s 47ms/step - loss: 0.8046 - accuracy: 0.6753 - val_loss: 1.2649 - val_accuracy: 0.4776\n",
      "Epoch 6/10\n",
      "312/312 [==============================] - 14s 46ms/step - loss: 0.7446 - accuracy: 0.7026 - val_loss: 0.8458 - val_accuracy: 0.4751\n",
      "Epoch 7/10\n",
      "312/312 [==============================] - 15s 47ms/step - loss: 0.6965 - accuracy: 0.7243 - val_loss: 1.1709 - val_accuracy: 0.4243\n",
      "Epoch 8/10\n",
      "312/312 [==============================] - 14s 46ms/step - loss: 0.6607 - accuracy: 0.7410 - val_loss: 1.2941 - val_accuracy: 0.4345\n",
      "Epoch 9/10\n",
      "312/312 [==============================] - 15s 47ms/step - loss: 0.6192 - accuracy: 0.7623 - val_loss: 1.5367 - val_accuracy: 0.4365\n",
      "Epoch 10/10\n",
      "312/312 [==============================] - 14s 46ms/step - loss: 0.5936 - accuracy: 0.7727 - val_loss: 1.9326 - val_accuracy: 0.3811\n"
     ]
    }
   ],
   "source": [
    "STEP_SIZE_TRAIN=train_generator.n//train_generator.batch_size\n",
    "STEP_SIZE_VALID=valid_generator.n//valid_generator.batch_size\n",
    "STEP_SIZE_TEST=test_generator.n//test_generator.batch_size\n",
    "\n",
    "history = model.fit_generator(generator=train_generator,\n",
    "                    steps_per_epoch=STEP_SIZE_TRAIN,\n",
    "                    validation_data=valid_generator,\n",
    "                    validation_steps=STEP_SIZE_VALID,\n",
    "                    epochs=10)\n"
   ]
  },
  {
   "cell_type": "markdown",
   "id": "d8765fdb",
   "metadata": {},
   "source": [
    "For clarity we can build the plot"
   ]
  },
  {
   "cell_type": "code",
   "execution_count": 107,
   "id": "270e89bc",
   "metadata": {},
   "outputs": [
    {
     "data": {
      "image/png": "[encoded data removed]",
      "text/plain": [
       "<Figure size 640x480 with 1 Axes>"
      ]
     },
     "metadata": {},
     "output_type": "display_data"
    }
   ],
   "source": [
    "plt.plot(history.history['accuracy'])\n",
    "plt.show()"
   ]
  },
  {
   "cell_type": "markdown",
   "id": "751ec472",
   "metadata": {},
   "source": [
    "Evaluate the model"
   ]
  },
  {
   "cell_type": "code",
   "execution_count": 108,
   "id": "00572147",
   "metadata": {},
   "outputs": [
    {
     "data": {
      "text/plain": [
       "[1.2288718223571777, 0.3842277526855469]"
      ]
     },
     "execution_count": 108,
     "metadata": {},
     "output_type": "execute_result"
    }
   ],
   "source": [
    "model.evaluate_generator(generator=valid_generator, steps=STEP_SIZE_TEST)"
   ]
  },
  {
   "cell_type": "markdown",
   "id": "4da552f9",
   "metadata": {},
   "source": [
    "Let's predict the output for the judge dataset. We need to reset the test_generator before whenever you call the predict_generator. This is important, if we don't want to get outputs in a weird order."
   ]
  },
  {
   "cell_type": "code",
   "execution_count": 116,
   "id": "fe907827",
   "metadata": {},
   "outputs": [
    {
     "name": "stdout",
     "output_type": "stream",
     "text": [
      "2000/2000 [==============================] - 3s 1ms/step\n"
     ]
    }
   ],
   "source": [
    "test_generator.reset()\n",
    "pred=model.predict_generator(test_generator,\n",
    "                    steps=STEP_SIZE_TEST,\n",
    "                    verbose=1)"
   ]
  },
  {
   "cell_type": "markdown",
   "id": "dc96b67c",
   "metadata": {},
   "source": [
    "Now we have to map the predicted labels with their unique ids such as filenames to find out what you predicted for which image."
   ]
  },
  {
   "cell_type": "code",
   "execution_count": 111,
   "id": "e4cf5c09",
   "metadata": {},
   "outputs": [
    {
     "data": {
      "text/plain": [
       "2000"
      ]
     },
     "execution_count": 111,
     "metadata": {},
     "output_type": "execute_result"
    }
   ],
   "source": [
    "predicted_class_indices=np.argmax(pred,axis=1)\n",
    "labels = (train_generator.class_indices)\n",
    "labels = dict((v,k) for k,v in labels.items())\n",
    "predictions = [labels[k] for k in predicted_class_indices]\n",
    "len(predictions)"
   ]
  },
  {
   "cell_type": "markdown",
   "id": "942f75c8",
   "metadata": {},
   "source": [
    "Finally, save the results to a CSV file."
   ]
  },
  {
   "cell_type": "code",
   "execution_count": 112,
   "id": "f141d42f",
   "metadata": {
    "scrolled": true
   },
   "outputs": [
    {
     "data": {
      "text/html": [
       "<div>\n",
       "<style scoped>\n",
       "    .dataframe tbody tr th:only-of-type {\n",
       "        vertical-align: middle;\n",
       "    }\n",
       "\n",
       "    .dataframe tbody tr th {\n",
       "        vertical-align: top;\n",
       "    }\n",
       "\n",
       "    .dataframe thead th {\n",
       "        text-align: right;\n",
       "    }\n",
       "</style>\n",
       "<table border=\"1\" class=\"dataframe\">\n",
       "  <thead>\n",
       "    <tr style=\"text-align: right;\">\n",
       "      <th></th>\n",
       "      <th>Filename</th>\n",
       "      <th>Predictions</th>\n",
       "    </tr>\n",
       "  </thead>\n",
       "  <tbody>\n",
       "    <tr>\n",
       "      <th>0</th>\n",
       "      <td>event000000.png</td>\n",
       "      <td>1</td>\n",
       "    </tr>\n",
       "    <tr>\n",
       "      <th>1</th>\n",
       "      <td>event000001.png</td>\n",
       "      <td>2</td>\n",
       "    </tr>\n",
       "    <tr>\n",
       "      <th>2</th>\n",
       "      <td>event000002.png</td>\n",
       "      <td>2</td>\n",
       "    </tr>\n",
       "    <tr>\n",
       "      <th>3</th>\n",
       "      <td>event000003.png</td>\n",
       "      <td>3</td>\n",
       "    </tr>\n",
       "    <tr>\n",
       "      <th>4</th>\n",
       "      <td>event000004.png</td>\n",
       "      <td>2</td>\n",
       "    </tr>\n",
       "    <tr>\n",
       "      <th>...</th>\n",
       "      <td>...</td>\n",
       "      <td>...</td>\n",
       "    </tr>\n",
       "    <tr>\n",
       "      <th>1995</th>\n",
       "      <td>event001995.png</td>\n",
       "      <td>1</td>\n",
       "    </tr>\n",
       "    <tr>\n",
       "      <th>1996</th>\n",
       "      <td>event001996.png</td>\n",
       "      <td>2</td>\n",
       "    </tr>\n",
       "    <tr>\n",
       "      <th>1997</th>\n",
       "      <td>event001997.png</td>\n",
       "      <td>2</td>\n",
       "    </tr>\n",
       "    <tr>\n",
       "      <th>1998</th>\n",
       "      <td>event001998.png</td>\n",
       "      <td>2</td>\n",
       "    </tr>\n",
       "    <tr>\n",
       "      <th>1999</th>\n",
       "      <td>event001999.png</td>\n",
       "      <td>4</td>\n",
       "    </tr>\n",
       "  </tbody>\n",
       "</table>\n",
       "<p>2000 rows × 2 columns</p>\n",
       "</div>"
      ],
      "text/plain": [
       "             Filename Predictions\n",
       "0     event000000.png           1\n",
       "1     event000001.png           2\n",
       "2     event000002.png           2\n",
       "3     event000003.png           3\n",
       "4     event000004.png           2\n",
       "...               ...         ...\n",
       "1995  event001995.png           1\n",
       "1996  event001996.png           2\n",
       "1997  event001997.png           2\n",
       "1998  event001998.png           2\n",
       "1999  event001999.png           4\n",
       "\n",
       "[2000 rows x 2 columns]"
      ]
     },
     "execution_count": 112,
     "metadata": {},
     "output_type": "execute_result"
    }
   ],
   "source": [
    "filenames=test_generator.filenames\n",
    "results=pd.DataFrame({\"Filename\":filenames,\n",
    "                      \"Predictions\":predictions})\n",
    "results"
   ]
  },
  {
   "cell_type": "markdown",
   "id": "a59d2802",
   "metadata": {},
   "source": [
    "We only need a column with the number of showers "
   ]
  },
  {
   "cell_type": "code",
   "execution_count": 115,
   "id": "8482ffb6",
   "metadata": {},
   "outputs": [],
   "source": [
    "output_judge = results[\"Predictions\"]\n",
    "path = \"C:/Users/matsiuk/Documents/Python Scripts/DATA/Problem3\"\n",
    "output_judge.to_csv(os.path.join(path,\"output_judge.csv\"),index=False,header=False)"
   ]
  },
  {
   "cell_type": "code",
   "execution_count": null,
   "id": "2e982e42",
   "metadata": {},
   "outputs": [],
   "source": []
  }
 ],
 "metadata": {
  "kernelspec": {
   "display_name": "gametrick",
   "language": "python",
   "name": "gametrick"
  },
  "language_info": {
   "codemirror_mode": {
    "name": "ipython",
    "version": 3
   },
   "file_extension": ".py",
   "mimetype": "text/x-python",
   "name": "python",
   "nbconvert_exporter": "python",
   "pygments_lexer": "ipython3",
   "version": "3.7.12"
  }
 },
 "nbformat": 4,
 "nbformat_minor": 5
}
